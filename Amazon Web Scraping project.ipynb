{
 "cells": [
  {
   "cell_type": "code",
   "execution_count": 2,
   "id": "25242417",
   "metadata": {},
   "outputs": [],
   "source": [
    "#import libraries. #Tells Beautifulsoup and requests where data is gotten from.(websites, computer, info about computer)\n",
    "\n",
    "from bs4 import BeautifulSoup\n",
    "import requests\n",
    "import time\n",
    "import datetime\n",
    "\n",
    "import smtplib #for sending emails to self"
   ]
  },
  {
   "cell_type": "code",
   "execution_count": 3,
   "id": "477b7c15",
   "metadata": {},
   "outputs": [
    {
     "name": "stdout",
     "output_type": "stream",
     "text": [
      "\n",
      "           Ninja Blenders-Countertop, 48 oz, Gray\n",
      "          \n",
      "\n",
      "                        $34.88\n",
      "                       \n",
      "21,279\n"
     ]
    }
   ],
   "source": [
    "#connect to website #pulling in content from webpage\n",
    "\n",
    "URL = \"https://www.amazon.com/Ninja-Blenders-Countertop-48-oz-Gray/dp/B003XU3C7M/?_encoding=UTF8&pd_rd_w=L5ADd&content-id=amzn1.sym.03bef33a-a357-4fe3-9505-7fd4d6236957&pf_rd_p=03bef33a-a357-4fe3-9505-7fd4d6236957&pf_rd_r=811BD2EYPA2ABEKGA07T&pd_rd_wg=sBoPs&pd_rd_r=3fde9c00-9379-4a4f-9faa-e2d0542cebfd&ref_=pd_gw_ci_mcx_mr_hp_d&th=1\"\n",
    "\n",
    "headers = {\n",
    "    \"User-Agent\": \"Mozilla/5.0 (Windows NT 10.0; Win64; x64) AppleWebKit/537.36 (KHTML, like Gecko) Chrome/58.0.3029.110 Safari/537.36 Edge/16.16299\",\n",
    "    \"Accept-Language\": \"en-US,en;q=0.5\",\n",
    "    \"Accept-Encoding\": \"gzip, deflate, br\",\n",
    "    \"Connection\": \"keep-alive\",\n",
    "    \"Upgrade-Insecure-Requests\": \"1\",\n",
    "    \"TE\": \"Trailers\",\n",
    "    \"Sec-Fetch-Dest\": \"document\",\n",
    "    \"Sec-Fetch-Mode\": \"navigate\",\n",
    "    \"Sec-Fetch-Site\": \"none\",\n",
    "    \"Sec-Fetch-User\": \"?1\"\n",
    "}\n",
    "\n",
    "page = requests.get(URL, headers=headers)\n",
    "           \n",
    "soup1 = BeautifulSoup(page.content, 'lxml') #\"html.parser\" and \"html5lib\"\n",
    "\n",
    "soup2 = BeautifulSoup(soup1.prettify(), 'lxml')\n",
    "\n",
    "title_elem = soup2.find(id='productTitle')\n",
    "if title_elem is not None:\n",
    "    title = title_elem.get_text() #.strip()\n",
    "    print(title)\n",
    "else:\n",
    "    print(\"Title not found\")\n",
    "\n",
    "price_elem = soup2.find(class_=\"a-offscreen\") #id=\"a-offscreen\"\n",
    "if price_elem is not None:\n",
    "    price = price_elem.get_text() #.strip()\n",
    "    print(price)\n",
    "else:\n",
    "    print(\"Price not found\")\n",
    "\n",
    "ratings_elem = soup2.find(id=\"acrCustomerReviewText\")\n",
    "if ratings_elem is not None:\n",
    "    ratings = ratings_elem.get_text().strip()[:-8]\n",
    "    print(ratings)\n",
    "else:\n",
    "    print(\"Ratings not found\")\n",
    "\n",
    "reviews_elem = soup2.find(class_=\"a-fixed-left-grid-col a-col-left\")\n",
    "if reviews_elem is not None:\n",
    "    reviews = reviews_elem.get_text() #.strip()\n",
    "else:\n",
    "    print('Reviews not found')\n",
    "\n",
    "\n",
    "#converted_price = float(price.split()[0].replace(',', '.'))   # <-- change the conversion method"
   ]
  },
  {
   "cell_type": "code",
   "execution_count": 4,
   "id": "7cdd5a7c",
   "metadata": {},
   "outputs": [
    {
     "name": "stdout",
     "output_type": "stream",
     "text": [
      "Ninja Blenders-Countertop, 48 oz, Gray\n",
      "34.88\n"
     ]
    }
   ],
   "source": [
    "#clean the data using .strip() to remove whitespaces\n",
    "\n",
    "price = price.strip()[1: ] #index to remove dollar symbol\n",
    "\n",
    "title = title.strip()\n",
    "\n",
    "print(title)\n",
    "print(price)"
   ]
  },
  {
   "cell_type": "code",
   "execution_count": 11,
   "id": "7447e4f7",
   "metadata": {},
   "outputs": [
    {
     "ename": "AttributeError",
     "evalue": "'NoneType' object has no attribute 'get_text'",
     "output_type": "error",
     "traceback": [
      "\u001b[0;31m---------------------------------------------------------------------------\u001b[0m",
      "\u001b[0;31mAttributeError\u001b[0m                            Traceback (most recent call last)",
      "\u001b[0;32m/var/folders/fn/mrxtgprj4hn57svg56mvgpdr0000gn/T/ipykernel_41753/1245386002.py\u001b[0m in \u001b[0;36m<module>\u001b[0;34m\u001b[0m\n\u001b[1;32m     22\u001b[0m \u001b[0mtitle\u001b[0m \u001b[0;34m=\u001b[0m \u001b[0msoup2\u001b[0m\u001b[0;34m.\u001b[0m\u001b[0mfind\u001b[0m\u001b[0;34m(\u001b[0m\u001b[0mid\u001b[0m\u001b[0;34m=\u001b[0m\u001b[0;34m'productTitle'\u001b[0m\u001b[0;34m)\u001b[0m\u001b[0;34m.\u001b[0m\u001b[0mget_text\u001b[0m\u001b[0;34m(\u001b[0m\u001b[0;34m)\u001b[0m\u001b[0;34m\u001b[0m\u001b[0;34m\u001b[0m\u001b[0m\n\u001b[1;32m     23\u001b[0m \u001b[0;34m\u001b[0m\u001b[0m\n\u001b[0;32m---> 24\u001b[0;31m \u001b[0mprice\u001b[0m \u001b[0;34m=\u001b[0m \u001b[0msoup2\u001b[0m\u001b[0;34m.\u001b[0m\u001b[0mfind\u001b[0m\u001b[0;34m(\u001b[0m\u001b[0mid\u001b[0m\u001b[0;34m=\u001b[0m\u001b[0;34m'priceblock_ourprice'\u001b[0m\u001b[0;34m)\u001b[0m\u001b[0;34m.\u001b[0m\u001b[0mget_text\u001b[0m\u001b[0;34m(\u001b[0m\u001b[0;34m)\u001b[0m\u001b[0;34m\u001b[0m\u001b[0;34m\u001b[0m\u001b[0m\n\u001b[0m\u001b[1;32m     25\u001b[0m \u001b[0;34m\u001b[0m\u001b[0m\n\u001b[1;32m     26\u001b[0m \u001b[0;34m\u001b[0m\u001b[0m\n",
      "\u001b[0;31mAttributeError\u001b[0m: 'NoneType' object has no attribute 'get_text'"
     ]
    }
   ],
   "source": [
    "URL = 'https://www.amazon.com/Ninja-Blenders-Countertop-48-oz-Gray/dp/B003XU3C7M/?_encoding=UTF8&pd_rd_w=L5ADd&content-id=amzn1.sym.03bef33a-a357-4fe3-9505-7fd4d6236957&pf_rd_p=03bef33a-a357-4fe3-9505-7fd4d6236957&pf_rd_r=811BD2EYPA2ABEKGA07T&pd_rd_wg=sBoPs&pd_rd_r=3fde9c00-9379-4a4f-9faa-e2d0542cebfd&ref_=pd_gw_ci_mcx_mr_hp_d&th=1'\n",
    "\n",
    "headers = {\n",
    "    \"User-Agent\": \"Mozilla/5.0 (Windows NT 10.0; Win64; x64) AppleWebKit/537.36 (KHTML, like Gecko) Chrome/58.0.3029.110 Safari/537.36 Edge/16.16299\",\n",
    "    \"Accept-Language\": \"en-US,en;q=0.5\",\n",
    "    \"Accept-Encoding\": \"gzip, deflate, br\",\n",
    "    \"Connection\": \"keep-alive\",\n",
    "    \"Upgrade-Insecure-Requests\": \"1\",\n",
    "    \"TE\": \"Trailers\",\n",
    "    \"Sec-Fetch-Dest\": \"document\",\n",
    "    \"Sec-Fetch-Mode\": \"navigate\",\n",
    "    \"Sec-Fetch-Site\": \"none\",\n",
    "    \"Sec-Fetch-User\": \"?1\"\n",
    "}\n",
    "\n",
    "page = requests.get(URL, headers=headers)\n",
    "\n",
    "soup1 = BeautifulSoup(page.content, \"html.parser\")\n",
    "\n",
    "soup2 = BeautifulSoup(soup1.prettify(), \"html.parser\")\n",
    "\n",
    "title = soup2.find(id='productTitle').get_text()\n",
    "\n",
    "price = soup2.find(id='priceblock_ourprice').get_text()\n",
    "\n",
    "\n",
    "print(title)\n",
    "print(price)"
   ]
  },
  {
   "cell_type": "code",
   "execution_count": null,
   "id": "48b26350",
   "metadata": {},
   "outputs": [],
   "source": []
  },
  {
   "cell_type": "code",
   "execution_count": 5,
   "id": "72813eb2",
   "metadata": {},
   "outputs": [
    {
     "name": "stdout",
     "output_type": "stream",
     "text": [
      "2023-03-30\n"
     ]
    }
   ],
   "source": [
    "today = datetime.date.today()\n",
    "print(today)"
   ]
  },
  {
   "cell_type": "code",
   "execution_count": 5,
   "id": "662f7fce",
   "metadata": {},
   "outputs": [],
   "source": [
    "#create csv, insert data into csv\n",
    "#create a process to append more data to csv #automate the process to pull data and create a dataset in excel\n",
    "\n",
    "import csv\n",
    "header = [\"title\", \"Price\", \"Date\", \"Ratings\", \"Reviews\"] #convert this to a list\n",
    "data = [title, price, today, ratings, reviews]\n",
    "#type(data) #important to remembe if data type is a list, array or dict\n",
    "\n",
    "#create csv\n",
    "with open(\"Amazonwebscraper.csv\", 'w', newline='', encoding = 'UTF8') as f:\n",
    "    writer = csv.writer(f)\n",
    "    writer.writerow(header) #header will be Title,price,ratings and reviews\n",
    "    writer.writerow(data)"
   ]
  },
  {
   "cell_type": "code",
   "execution_count": 6,
   "id": "2279e066",
   "metadata": {},
   "outputs": [
    {
     "name": "stdout",
     "output_type": "stream",
     "text": [
      "                                     title  Price        Date Ratings  \\\n",
      "0   Ninja Blenders-Countertop, 48 oz, Gray  34.88  2023-03-29  21,273   \n",
      "1   Ninja Blenders-Countertop, 48 oz, Gray  34.88  2023-03-29  21,273   \n",
      "2   Ninja Blenders-Countertop, 48 oz, Gray  34.88  2023-03-29  21,273   \n",
      "3   Ninja Blenders-Countertop, 48 oz, Gray  34.88  2023-03-29  21,273   \n",
      "4   Ninja Blenders-Countertop, 48 oz, Gray  34.88  2023-03-29  21,273   \n",
      "5   Ninja Blenders-Countertop, 48 oz, Gray  34.88  2023-03-29  21,273   \n",
      "6   Ninja Blenders-Countertop, 48 oz, Gray  34.88  2023-03-29     NaN   \n",
      "7   Ninja Blenders-Countertop, 48 oz, Gray  34.88  2023-03-29     NaN   \n",
      "8   Ninja Blenders-Countertop, 48 oz, Gray  34.88  2023-03-29     NaN   \n",
      "9   Ninja Blenders-Countertop, 48 oz, Gray  34.88  2023-03-29     NaN   \n",
      "10  Ninja Blenders-Countertop, 48 oz, Gray  34.88  2023-03-29     NaN   \n",
      "11  Ninja Blenders-Countertop, 48 oz, Gray  34.88  2023-03-29     NaN   \n",
      "12  Ninja Blenders-Countertop, 48 oz, Gray  34.88  2023-03-29     NaN   \n",
      "13  Ninja Blenders-Countertop, 48 oz, Gray  34.88  2023-03-29     NaN   \n",
      "14  Ninja Blenders-Countertop, 48 oz, Gray  34.88  2023-03-29     NaN   \n",
      "15  Ninja Blenders-Countertop, 48 oz, Gray  34.88  2023-03-29     NaN   \n",
      "16  Ninja Blenders-Countertop, 48 oz, Gray  34.88  2023-03-29     NaN   \n",
      "17  Ninja Blenders-Countertop, 48 oz, Gray  34.88  2023-03-29     NaN   \n",
      "18  Ninja Blenders-Countertop, 48 oz, Gray  34.88  2023-03-29     NaN   \n",
      "\n",
      "           Reviews  \n",
      "0             \\n\\n  \n",
      "1             \\n\\n  \n",
      "2             \\n\\n  \n",
      "3             \\n\\n  \n",
      "4             \\n\\n  \n",
      "5             \\n\\n  \n",
      "6   21,273 ratings  \n",
      "7   21,273 ratings  \n",
      "8   21,273 ratings  \n",
      "9   21,273 ratings  \n",
      "10  21,273 ratings  \n",
      "11  21,273 ratings  \n",
      "12  21,273 ratings  \n",
      "13  21,273 ratings  \n",
      "14  21,273 ratings  \n",
      "15  21,273 ratings  \n",
      "16  21,273 ratings  \n",
      "17  21,273 ratings  \n",
      "18  21,273 ratings  \n"
     ]
    }
   ],
   "source": [
    "#check data without opening desktop all the time\n",
    "\n",
    "import pandas as pd\n",
    "df = pd.read_csv('/Users/yummy/Python Folder 1/Amazonwebscraper.csv')\n",
    "print(df)"
   ]
  },
  {
   "cell_type": "code",
   "execution_count": 11,
   "id": "65a36dc8",
   "metadata": {},
   "outputs": [],
   "source": [
    "#append more data to csv ('a+' appends data), delete header since it's no longer needed\n",
    "#instead of creatign new data, it goes to next free rows and appends new data\n",
    "#run this row for a couple of times to have more data appended, then re-run df above.\n",
    "\n",
    "with open(\"Amazonwebscraper.csv\", 'a+', newline='', encoding = 'UTF8') as f:\n",
    "    writer = csv.writer(f)\n",
    "    writer.writerow(data)"
   ]
  },
  {
   "cell_type": "code",
   "execution_count": null,
   "id": "aabf5a19",
   "metadata": {},
   "outputs": [],
   "source": []
  },
  {
   "cell_type": "code",
   "execution_count": 7,
   "id": "81b36f2b",
   "metadata": {},
   "outputs": [],
   "source": [
    "#combine all the above code into one function\n",
    "\n",
    "def check_price():\n",
    "    URL = \"https://www.amazon.com/Ninja-Blenders-Countertop-48-oz-Gray/dp/B003XU3C7M/?_encoding=UTF8&pd_rd_w=L5ADd&content-id=amzn1.sym.03bef33a-a357-4fe3-9505-7fd4d6236957&pf_rd_p=03bef33a-a357-4fe3-9505-7fd4d6236957&pf_rd_r=811BD2EYPA2ABEKGA07T&pd_rd_wg=sBoPs&pd_rd_r=3fde9c00-9379-4a4f-9faa-e2d0542cebfd&ref_=pd_gw_ci_mcx_mr_hp_d&th=1\"\n",
    "\n",
    "    headers = {\n",
    "    \"User-Agent\": \"Mozilla/5.0 (Windows NT 10.0; Win64; x64) AppleWebKit/537.36 (KHTML, like Gecko) Chrome/58.0.3029.110 Safari/537.36 Edge/16.16299\",\n",
    "    \"Accept-Language\": \"en-US,en;q=0.5\",\n",
    "    \"Accept-Encoding\": \"gzip, deflate, br\",\n",
    "    \"Connection\": \"keep-alive\",\n",
    "    \"Upgrade-Insecure-Requests\": \"1\",\n",
    "    \"TE\": \"Trailers\",\n",
    "    \"Sec-Fetch-Dest\": \"document\",\n",
    "    \"Sec-Fetch-Mode\": \"navigate\",\n",
    "    \"Sec-Fetch-Site\": \"none\",\n",
    "    \"Sec-Fetch-User\": \"?1\"\n",
    "}\n",
    "\n",
    "    page = requests.get(URL, headers=headers)\n",
    "           \n",
    "    soup1 = BeautifulSoup(page.content, 'lxml') #\"html.parser\" and \"html5lib\"\n",
    "\n",
    "    soup2 = BeautifulSoup(soup1.prettify(), 'lxml')\n",
    "\n",
    "    title_elem = soup2.find(id='productTitle')\n",
    "    if title_elem is not None:\n",
    "        title = title_elem.get_text() #.strip()\n",
    "        print(title)\n",
    "    else:\n",
    "        print(\"Title not found\")\n",
    "\n",
    "    price_elem = soup2.find(class_=\"a-offscreen\") #id=\"a-offscreen\"\n",
    "    if price_elem is not None:\n",
    "        price = price_elem.get_text() #.strip()\n",
    "        print(price)\n",
    "    else:\n",
    "        print(\"Price not found\")\n",
    "\n",
    "    ratings_elem = soup2.find(class_=\"a-icon a-icon-star a-star-4-5\")\n",
    "    if ratings_elem is not None:\n",
    "        ratings = ratings_elem.get_text().strip()\n",
    "        print(ratings)\n",
    "    else:\n",
    "        print(\"Ratings not found\")\n",
    "\n",
    "    reviews_elem = soup2.find(id=\"acrCustomerReviewText\")\n",
    "    if reviews_elem is not None:\n",
    "        reviews = reviews_elem.get_text().strip()\n",
    "    else:\n",
    "        print('Reviews not found')\n",
    "    \n",
    "    title = title.strip()   \n",
    "    price = price.strip()[1: ]\n",
    "    \n",
    "    today = datetime.date.today()\n",
    "    \n",
    "    import csv\n",
    "    \n",
    "    header = [\"title\", \"price\", \"Date\", \"Ratings\", \"Reviews\"]\n",
    "    data = [title, price, today, ratings, reviews]\n",
    "    \n",
    "    with open(\"Amazonwebscraper.csv\", 'a+', newline='', encoding = 'UTF8') as f:\n",
    "        writer = csv.writer(f)\n",
    "        writer.writerow(data)\n",
    "    \n",
    "    if (price < 20):\n",
    "        send_mail()"
   ]
  },
  {
   "cell_type": "code",
   "execution_count": null,
   "id": "8e7aa1ef",
   "metadata": {},
   "outputs": [
    {
     "name": "stdout",
     "output_type": "stream",
     "text": [
      "\n",
      "           Ninja Blenders-Countertop, 48 oz, Gray\n",
      "          \n",
      "\n",
      "                        $34.88\n",
      "                       \n",
      "\n"
     ]
    }
   ],
   "source": [
    "#checks price daily, while running in background. runs check_price after a set time and inputs data into CSV\n",
    "\n",
    "while(True):\n",
    "    check_price()\n",
    "    time.sleep(86400)"
   ]
  },
  {
   "cell_type": "code",
   "execution_count": 8,
   "id": "ec237793",
   "metadata": {},
   "outputs": [
    {
     "name": "stdout",
     "output_type": "stream",
     "text": [
      "                                     title  Price        Date Ratings  \\\n",
      "0   Ninja Blenders-Countertop, 48 oz, Gray  34.88  2023-03-29  21,273   \n",
      "1   Ninja Blenders-Countertop, 48 oz, Gray  34.88  2023-03-29  21,273   \n",
      "2   Ninja Blenders-Countertop, 48 oz, Gray  34.88  2023-03-29  21,273   \n",
      "3   Ninja Blenders-Countertop, 48 oz, Gray  34.88  2023-03-29  21,273   \n",
      "4   Ninja Blenders-Countertop, 48 oz, Gray  34.88  2023-03-29  21,273   \n",
      "5   Ninja Blenders-Countertop, 48 oz, Gray  34.88  2023-03-29  21,273   \n",
      "6   Ninja Blenders-Countertop, 48 oz, Gray  34.88  2023-03-29     NaN   \n",
      "7   Ninja Blenders-Countertop, 48 oz, Gray  34.88  2023-03-29     NaN   \n",
      "8   Ninja Blenders-Countertop, 48 oz, Gray  34.88  2023-03-29     NaN   \n",
      "9   Ninja Blenders-Countertop, 48 oz, Gray  34.88  2023-03-29     NaN   \n",
      "10  Ninja Blenders-Countertop, 48 oz, Gray  34.88  2023-03-29     NaN   \n",
      "11  Ninja Blenders-Countertop, 48 oz, Gray  34.88  2023-03-29     NaN   \n",
      "12  Ninja Blenders-Countertop, 48 oz, Gray  34.88  2023-03-29     NaN   \n",
      "13  Ninja Blenders-Countertop, 48 oz, Gray  34.88  2023-03-29     NaN   \n",
      "14  Ninja Blenders-Countertop, 48 oz, Gray  34.88  2023-03-29     NaN   \n",
      "15  Ninja Blenders-Countertop, 48 oz, Gray  34.88  2023-03-29     NaN   \n",
      "16  Ninja Blenders-Countertop, 48 oz, Gray  34.88  2023-03-29     NaN   \n",
      "17  Ninja Blenders-Countertop, 48 oz, Gray  34.88  2023-03-29     NaN   \n",
      "18  Ninja Blenders-Countertop, 48 oz, Gray  34.88  2023-03-29     NaN   \n",
      "\n",
      "           Reviews  \n",
      "0             \\n\\n  \n",
      "1             \\n\\n  \n",
      "2             \\n\\n  \n",
      "3             \\n\\n  \n",
      "4             \\n\\n  \n",
      "5             \\n\\n  \n",
      "6   21,273 ratings  \n",
      "7   21,273 ratings  \n",
      "8   21,273 ratings  \n",
      "9   21,273 ratings  \n",
      "10  21,273 ratings  \n",
      "11  21,273 ratings  \n",
      "12  21,273 ratings  \n",
      "13  21,273 ratings  \n",
      "14  21,273 ratings  \n",
      "15  21,273 ratings  \n",
      "16  21,273 ratings  \n",
      "17  21,273 ratings  \n",
      "18  21,273 ratings  \n"
     ]
    }
   ],
   "source": [
    "import pandas as pd\n",
    "pd.read_csv('/Users/yummy/Python Folder 1/Amazonwebscraper.csv')\n",
    "print(df)"
   ]
  },
  {
   "cell_type": "code",
   "execution_count": 9,
   "id": "3fd11d2b",
   "metadata": {},
   "outputs": [],
   "source": [
    "# To send an email to self (just for fun) when a price goes below a certain amount\n",
    "\n",
    "def send_mail():\n",
    "    server = smtplib.SMTP_SSL('smtp.yahoo.com',465)\n",
    "    server.ehlo()\n",
    "    #server.starttls()\n",
    "    server.ehlo()\n",
    "    server.login('ameikpe@yahoo.com.com','herexcellency2023') #when showing someone remember to hide email password\n",
    "    \n",
    "    subject = \"Price drop for ninja blender. Below $20! Now is your chance to buy!\"\n",
    "    body = \"Ame, Now is your chance to pick up that blender. Act fast! Link here: https://www.amazon.com/Ninja-Blenders-Countertop-48-oz-Gray/dp/B003XU3C7M/?_encoding=UTF8&pd_rd_w=L5ADd&content-id=amzn1.sym.03bef33a-a357-4fe3-9505-7fd4d6236957&pf_rd_p=03bef33a-a357-4fe3-9505-7fd4d6236957&pf_rd_r=811BD2EYPA2ABEKGA07T&pd_rd_wg=sBoPs&pd_rd_r=3fde9c00-9379-4a4f-9faa-e2d0542cebfd&ref_=pd_gw_ci_mcx_mr_hp_d&th=1\"\n",
    "   \n",
    "    msg = f\"Subject: {subject}\\n\\n{body}\"\n",
    "    \n",
    "    server.sendmail(\n",
    "        'ameikpe@yahoo.com',\n",
    "        msg\n",
    "     \n",
    "    )"
   ]
  },
  {
   "cell_type": "code",
   "execution_count": null,
   "id": "d4d948ee",
   "metadata": {},
   "outputs": [],
   "source": []
  }
 ],
 "metadata": {
  "kernelspec": {
   "display_name": "Python 3 (ipykernel)",
   "language": "python",
   "name": "python3"
  },
  "language_info": {
   "codemirror_mode": {
    "name": "ipython",
    "version": 3
   },
   "file_extension": ".py",
   "mimetype": "text/x-python",
   "name": "python",
   "nbconvert_exporter": "python",
   "pygments_lexer": "ipython3",
   "version": "3.9.7"
  }
 },
 "nbformat": 4,
 "nbformat_minor": 5
}
